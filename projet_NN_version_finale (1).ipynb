{
 "cells": [
  {
   "cell_type": "code",
   "execution_count": 1,
   "id": "60952d5f-0d78-4d9f-8748-2e9c8a8afe8c",
   "metadata": {},
   "outputs": [],
   "source": [
    "import numpy as np\n",
    "import pandas as pd\n",
    "import matplotlib.pyplot as plt\n",
    "from sklearn.model_selection import train_test_split\n",
    "from sklearn.preprocessing import MinMaxScaler, LabelEncoder\n",
    "from tensorflow.keras.models import Sequential\n",
    "from tensorflow.keras.layers import Dense, Dropout\n",
    "from tensorflow.keras.optimizers import Adam\n",
    "from tensorflow.keras.regularizers import l2\n",
    "from tensorflow.keras.callbacks import EarlyStopping\n",
    "from sklearn.model_selection import ParameterGrid  "
   ]
  },
  {
   "cell_type": "markdown",
   "id": "1bf383d6-9f74-4ae5-87d4-0b2160942edf",
   "metadata": {},
   "source": [
    "## Description:\r\n",
    "The Student Performance Dataset is a dataset designed to examine the factors influencing academic student performance. The dataset consists of 10,000 student records, with each record containing information about various predictors and a performance index.\r",
    "### Features:\n",
    "Hours urs Studied: The total number of hours spent studying by each student.\r\n",
    "Previous Scores: The scores obtained by students in previous tests.\r\n",
    "Extracurricular Activities: Whether the student participates in extracurricular activities (Yes or No).\r\n",
    "Sleep Hours: The average number of hours of sleep the student had per day.\r\n",
    "Sample Question Papers Practiced: The number of sample question papers the student pr\n",
    "a### Target variable:Vriable:\r\n",
    "\r\n",
    "Performance Index: A measure of the overall performance of each student. The performance index represents the student's academic performance and has been rounded to the nearest integer. The index ranges from 10 to 100, with higher values indicating better performance.\r\n",
    "The dataset aims to provide insights into the relationship between the predictor variables and the performance index. Researchers and data analysts can use this dataset to explore the impact of studying hours, previous scores, extracurricular activities, sleep hours, and sample question papers on student performance."
   ]
  },
  {
   "cell_type": "code",
   "execution_count": 3,
   "id": "1911231b-ba5e-465a-bc7b-41d09a75c7f4",
   "metadata": {},
   "outputs": [],
   "source": [
    "df= pd.read_csv(\"C:/Users/USER/Downloads/archive (11)/Student_Performance.csv\")"
   ]
  },
  {
   "cell_type": "code",
   "execution_count": 4,
   "id": "b8ab0a34-5a15-4b15-a7e1-421f3af5bd31",
   "metadata": {},
   "outputs": [
    {
     "data": {
      "text/html": [
       "<div>\n",
       "<style scoped>\n",
       "    .dataframe tbody tr th:only-of-type {\n",
       "        vertical-align: middle;\n",
       "    }\n",
       "\n",
       "    .dataframe tbody tr th {\n",
       "        vertical-align: top;\n",
       "    }\n",
       "\n",
       "    .dataframe thead th {\n",
       "        text-align: right;\n",
       "    }\n",
       "</style>\n",
       "<table border=\"1\" class=\"dataframe\">\n",
       "  <thead>\n",
       "    <tr style=\"text-align: right;\">\n",
       "      <th></th>\n",
       "      <th>Hours Studied</th>\n",
       "      <th>Previous Scores</th>\n",
       "      <th>Extracurricular Activities</th>\n",
       "      <th>Sleep Hours</th>\n",
       "      <th>Sample Question Papers Practiced</th>\n",
       "      <th>Performance Index</th>\n",
       "    </tr>\n",
       "  </thead>\n",
       "  <tbody>\n",
       "    <tr>\n",
       "      <th>0</th>\n",
       "      <td>7</td>\n",
       "      <td>99</td>\n",
       "      <td>Yes</td>\n",
       "      <td>9</td>\n",
       "      <td>1</td>\n",
       "      <td>91.0</td>\n",
       "    </tr>\n",
       "    <tr>\n",
       "      <th>1</th>\n",
       "      <td>4</td>\n",
       "      <td>82</td>\n",
       "      <td>No</td>\n",
       "      <td>4</td>\n",
       "      <td>2</td>\n",
       "      <td>65.0</td>\n",
       "    </tr>\n",
       "    <tr>\n",
       "      <th>2</th>\n",
       "      <td>8</td>\n",
       "      <td>51</td>\n",
       "      <td>Yes</td>\n",
       "      <td>7</td>\n",
       "      <td>2</td>\n",
       "      <td>45.0</td>\n",
       "    </tr>\n",
       "    <tr>\n",
       "      <th>3</th>\n",
       "      <td>5</td>\n",
       "      <td>52</td>\n",
       "      <td>Yes</td>\n",
       "      <td>5</td>\n",
       "      <td>2</td>\n",
       "      <td>36.0</td>\n",
       "    </tr>\n",
       "    <tr>\n",
       "      <th>4</th>\n",
       "      <td>7</td>\n",
       "      <td>75</td>\n",
       "      <td>No</td>\n",
       "      <td>8</td>\n",
       "      <td>5</td>\n",
       "      <td>66.0</td>\n",
       "    </tr>\n",
       "  </tbody>\n",
       "</table>\n",
       "</div>"
      ],
      "text/plain": [
       "   Hours Studied  Previous Scores Extracurricular Activities  Sleep Hours  \\\n",
       "0              7               99                        Yes            9   \n",
       "1              4               82                         No            4   \n",
       "2              8               51                        Yes            7   \n",
       "3              5               52                        Yes            5   \n",
       "4              7               75                         No            8   \n",
       "\n",
       "   Sample Question Papers Practiced  Performance Index  \n",
       "0                                 1               91.0  \n",
       "1                                 2               65.0  \n",
       "2                                 2               45.0  \n",
       "3                                 2               36.0  \n",
       "4                                 5               66.0  "
      ]
     },
     "execution_count": 4,
     "metadata": {},
     "output_type": "execute_result"
    }
   ],
   "source": [
    "df.head()"
   ]
  },
  {
   "cell_type": "code",
   "execution_count": 5,
   "id": "bf9a19cb-233e-41f5-a1c8-2572cc6b29ae",
   "metadata": {},
   "outputs": [
    {
     "data": {
      "text/plain": [
       "Index(['Hours Studied', 'Previous Scores', 'Extracurricular Activities',\n",
       "       'Sleep Hours', 'Sample Question Papers Practiced', 'Performance Index'],\n",
       "      dtype='object')"
      ]
     },
     "execution_count": 5,
     "metadata": {},
     "output_type": "execute_result"
    }
   ],
   "source": [
    "df.columns"
   ]
  },
  {
   "cell_type": "code",
   "execution_count": 6,
   "id": "76ea9eab-7e1e-4da1-8c21-f742d5224aec",
   "metadata": {},
   "outputs": [
    {
     "data": {
      "text/plain": [
       "(10000, 6)"
      ]
     },
     "execution_count": 6,
     "metadata": {},
     "output_type": "execute_result"
    }
   ],
   "source": [
    "df.shape\n"
   ]
  },
  {
   "cell_type": "code",
   "execution_count": 7,
   "id": "0bb68ca5-3f4a-44a9-b1b8-de379a858228",
   "metadata": {},
   "outputs": [
    {
     "data": {
      "text/plain": [
       "Hours Studied                       0\n",
       "Previous Scores                     0\n",
       "Extracurricular Activities          0\n",
       "Sleep Hours                         0\n",
       "Sample Question Papers Practiced    0\n",
       "Performance Index                   0\n",
       "dtype: int64"
      ]
     },
     "execution_count": 7,
     "metadata": {},
     "output_type": "execute_result"
    }
   ],
   "source": [
    "#check for null values or missing data\n",
    "df.isna().sum()"
   ]
  },
  {
   "cell_type": "code",
   "execution_count": 8,
   "id": "a5e69b22-5709-407f-a7a0-cac8856ff468",
   "metadata": {},
   "outputs": [
    {
     "data": {
      "text/plain": [
       "127"
      ]
     },
     "execution_count": 8,
     "metadata": {},
     "output_type": "execute_result"
    }
   ],
   "source": [
    "#check if some rows are duplicate entry\n",
    "df.duplicated().sum()"
   ]
  },
  {
   "cell_type": "code",
   "execution_count": 9,
   "id": "84bcddff-f209-464d-bd8f-45c1208e4281",
   "metadata": {},
   "outputs": [
    {
     "name": "stdout",
     "output_type": "stream",
     "text": [
      "<class 'pandas.core.frame.DataFrame'>\n",
      "RangeIndex: 10000 entries, 0 to 9999\n",
      "Data columns (total 6 columns):\n",
      " #   Column                            Non-Null Count  Dtype  \n",
      "---  ------                            --------------  -----  \n",
      " 0   Hours Studied                     10000 non-null  int64  \n",
      " 1   Previous Scores                   10000 non-null  int64  \n",
      " 2   Extracurricular Activities        10000 non-null  object \n",
      " 3   Sleep Hours                       10000 non-null  int64  \n",
      " 4   Sample Question Papers Practiced  10000 non-null  int64  \n",
      " 5   Performance Index                 10000 non-null  float64\n",
      "dtypes: float64(1), int64(4), object(1)\n",
      "memory usage: 468.9+ KB\n"
     ]
    }
   ],
   "source": [
    "#summary statistics on the dataset\n",
    "df.info()"
   ]
  },
  {
   "cell_type": "code",
   "execution_count": 10,
   "id": "21705380-c38c-4b3e-8d0d-984b431e95ee",
   "metadata": {},
   "outputs": [
    {
     "name": "stdout",
     "output_type": "stream",
     "text": [
      "Hours Studied  Previous Scores  Extracurricular Activities  Sleep Hours  Sample Question Papers Practiced  Performance Index\n",
      "5              59               Yes                         9            0                                 45.0                 3\n",
      "1              97               Yes                         4            5                                 73.0                 2\n",
      "               83               No                          7            2                                 58.0                 2\n",
      "3              66               No                          4            6                                 45.0                 2\n",
      "4              70               Yes                         6            8                                 53.0                 2\n",
      "                                                                                                                               ..\n",
      "3              98               Yes                         8            3                                 77.0                 1\n",
      "                                                            9            1                                 84.0                 1\n",
      "               99               No                          5            1                                 79.0                 1\n",
      "                                                            6            6                                 79.0                 1\n",
      "9              99               Yes                         8            8                                 100.0                1\n",
      "Name: count, Length: 9873, dtype: int64 \n",
      "\n",
      "\n"
     ]
    }
   ],
   "source": [
    "#check for the value counts of the unique classes present in each category column\n",
    "print(df.value_counts(),'\\n\\n')"
   ]
  },
  {
   "cell_type": "markdown",
   "id": "49cdddef-9a83-451f-8539-6431b1b91a04",
   "metadata": {},
   "source": [
    "#  Preprocessing and Data Preparation"
   ]
  },
  {
   "cell_type": "code",
   "execution_count": 12,
   "id": "15b798d6-7a95-431d-a0e9-dea38406214c",
   "metadata": {},
   "outputs": [
    {
     "name": "stdout",
     "output_type": "stream",
     "text": [
      "Scaled Features:\n",
      "[[0.75       1.         1.         1.         0.11111111]\n",
      " [0.375      0.71186441 0.         0.         0.22222222]\n",
      " [0.875      0.18644068 1.         0.6        0.22222222]\n",
      " ...\n",
      " [0.625      0.72881356 1.         0.8        0.55555556]\n",
      " [1.         0.96610169 1.         0.6        0.        ]\n",
      " [0.75       0.57627119 0.         0.8        0.11111111]]\n",
      "\n",
      "Scaled Target (y):\n",
      "[[0.9       ]\n",
      " [0.61111111]\n",
      " [0.38888889]\n",
      " ...\n",
      " [0.71111111]\n",
      " [0.94444444]\n",
      " [0.6       ]]\n"
     ]
    }
   ],
   "source": [
    "# Split data into features (X) and target (y)\n",
    "X = df.drop(columns=['Performance Index'])\n",
    "y = df['Performance Index']\n",
    "\n",
    "\n",
    "\n",
    "# Encode categorical variable using one-hot encoding\n",
    "encoder = LabelEncoder()\n",
    "X['Extracurricular Activities']= encoder.fit_transform(X['Extracurricular Activities'])\n",
    "# Scale numerical features\n",
    "scaler = MinMaxScaler()\n",
    "numerical_features = X\n",
    "X_scaled = scaler.fit_transform(numerical_features)\n",
    "\n",
    "# 3. Transformer la variable cible Performance_Index avec MinMaxScaler\n",
    "y = y.values.reshape(-1, 1)  # Assurez-vous que Performance_Index est en forme 2D\n",
    "y_scaler = MinMaxScaler()\n",
    "y_scaled = y_scaler.fit_transform(y)\n",
    "\n",
    "# Afficher les résultats\n",
    "print(\"Scaled Features:\")\n",
    "print(X_scaled)\n",
    "\n",
    "print(\"\\nScaled Target (y):\")\n",
    "print(y_scaled)\n"
   ]
  },
  {
   "cell_type": "code",
   "execution_count": 13,
   "id": "ae53bf05-2c29-4687-9375-206977d077df",
   "metadata": {},
   "outputs": [],
   "source": [
    "# Split into train, validation( utilisé pour ajuster les hyperparamètres et évaluer les performances pendant l'entraînement), and test sets\n",
    "X_train, X_temp, y_train, y_temp = train_test_split(X_scaled, y_scaled, test_size=0.4, random_state=42)\n",
    "X_val, X_test, y_val, y_test = train_test_split(X_temp, y_temp, test_size=0.5, random_state=42)"
   ]
  },
  {
   "cell_type": "markdown",
   "id": "fbb4b871-79d4-4eee-a923-c3f9c711832c",
   "metadata": {},
   "source": [
    "# Build the model"
   ]
  },
  {
   "cell_type": "code",
   "execution_count": 15,
   "id": "09bb1882-075f-4b89-a9a1-cec1c7f162b0",
   "metadata": {},
   "outputs": [],
   "source": [
    "from keras.models import Sequential\n",
    "from keras.layers import Dense, Dropout"
   ]
  },
  {
   "cell_type": "code",
   "execution_count": 16,
   "id": "773500f6-a197-492f-8c53-2da5ad5fe2bf",
   "metadata": {},
   "outputs": [
    {
     "name": "stdout",
     "output_type": "stream",
     "text": [
      "X_train shape: (6000, 5)\n",
      "y_train shape: (6000, 1)\n",
      "X_val shape: (2000, 5)\n",
      "y_val shape: (2000, 1)\n",
      "X_test shape: (2000, 5)\n",
      "y_test shape: (2000, 1)\n"
     ]
    }
   ],
   "source": [
    "print(\"X_train shape:\", X_train.shape)\n",
    "print(\"y_train shape:\", y_train.shape)\n",
    "\n",
    "print(\"X_val shape:\", X_val.shape)\n",
    "print(\"y_val shape:\", y_val.shape)\n",
    "\n",
    "print(\"X_test shape:\", X_test.shape)\n",
    "print(\"y_test shape:\", y_test.shape)\n"
   ]
  },
  {
   "cell_type": "code",
   "execution_count": 17,
   "id": "82767dc3-d316-450b-b80d-007c48bb9cf0",
   "metadata": {},
   "outputs": [
    {
     "name": "stdout",
     "output_type": "stream",
     "text": [
      "Test avec paramètres :  {'batch_size': 16, 'dropout_rate': 0.2, 'epochs': 50, 'l2_reg': 0.001, 'learning_rate': 0.001}\n"
     ]
    },
    {
     "name": "stderr",
     "output_type": "stream",
     "text": [
      "C:\\Users\\USER\\anaconda\\Lib\\site-packages\\keras\\src\\layers\\core\\dense.py:87: UserWarning: Do not pass an `input_shape`/`input_dim` argument to a layer. When using Sequential models, prefer using an `Input(shape)` object as the first layer in the model instead.\n",
      "  super().__init__(activity_regularizer=activity_regularizer, **kwargs)\n"
     ]
    },
    {
     "name": "stdout",
     "output_type": "stream",
     "text": [
      "MAE :  0.02296421490609646\n",
      "Test avec paramètres :  {'batch_size': 16, 'dropout_rate': 0.2, 'epochs': 50, 'l2_reg': 0.001, 'learning_rate': 0.01}\n",
      "MAE :  0.022806571796536446\n",
      "Test avec paramètres :  {'batch_size': 16, 'dropout_rate': 0.2, 'epochs': 50, 'l2_reg': 0.01, 'learning_rate': 0.001}\n",
      "MAE :  0.026010017842054367\n",
      "Test avec paramètres :  {'batch_size': 16, 'dropout_rate': 0.2, 'epochs': 50, 'l2_reg': 0.01, 'learning_rate': 0.01}\n",
      "MAE :  0.04158823937177658\n",
      "Test avec paramètres :  {'batch_size': 16, 'dropout_rate': 0.2, 'epochs': 100, 'l2_reg': 0.001, 'learning_rate': 0.001}\n",
      "MAE :  0.020751968026161194\n",
      "Test avec paramètres :  {'batch_size': 16, 'dropout_rate': 0.2, 'epochs': 100, 'l2_reg': 0.001, 'learning_rate': 0.01}\n",
      "MAE :  0.0476577952504158\n",
      "Test avec paramètres :  {'batch_size': 16, 'dropout_rate': 0.2, 'epochs': 100, 'l2_reg': 0.01, 'learning_rate': 0.001}\n",
      "MAE :  0.024980049580335617\n",
      "Test avec paramètres :  {'batch_size': 16, 'dropout_rate': 0.2, 'epochs': 100, 'l2_reg': 0.01, 'learning_rate': 0.01}\n",
      "MAE :  0.03058943711221218\n",
      "Test avec paramètres :  {'batch_size': 16, 'dropout_rate': 0.3, 'epochs': 50, 'l2_reg': 0.001, 'learning_rate': 0.001}\n",
      "MAE :  0.020252684131264687\n",
      "Test avec paramètres :  {'batch_size': 16, 'dropout_rate': 0.3, 'epochs': 50, 'l2_reg': 0.001, 'learning_rate': 0.01}\n",
      "MAE :  0.037477921694517136\n",
      "Test avec paramètres :  {'batch_size': 16, 'dropout_rate': 0.3, 'epochs': 50, 'l2_reg': 0.01, 'learning_rate': 0.001}\n",
      "MAE :  0.022050917148590088\n",
      "Test avec paramètres :  {'batch_size': 16, 'dropout_rate': 0.3, 'epochs': 50, 'l2_reg': 0.01, 'learning_rate': 0.01}\n",
      "MAE :  0.040421012789011\n",
      "Test avec paramètres :  {'batch_size': 16, 'dropout_rate': 0.3, 'epochs': 100, 'l2_reg': 0.001, 'learning_rate': 0.001}\n",
      "MAE :  0.020144212990999222\n",
      "Test avec paramètres :  {'batch_size': 16, 'dropout_rate': 0.3, 'epochs': 100, 'l2_reg': 0.001, 'learning_rate': 0.01}\n",
      "MAE :  0.03545302897691727\n",
      "Test avec paramètres :  {'batch_size': 16, 'dropout_rate': 0.3, 'epochs': 100, 'l2_reg': 0.01, 'learning_rate': 0.001}\n",
      "MAE :  0.04148539528250694\n",
      "Test avec paramètres :  {'batch_size': 16, 'dropout_rate': 0.3, 'epochs': 100, 'l2_reg': 0.01, 'learning_rate': 0.01}\n",
      "MAE :  0.05630338191986084\n",
      "Test avec paramètres :  {'batch_size': 32, 'dropout_rate': 0.2, 'epochs': 50, 'l2_reg': 0.001, 'learning_rate': 0.001}\n",
      "MAE :  0.021590109914541245\n",
      "Test avec paramètres :  {'batch_size': 32, 'dropout_rate': 0.2, 'epochs': 50, 'l2_reg': 0.001, 'learning_rate': 0.01}\n",
      "MAE :  0.036672644317150116\n",
      "Test avec paramètres :  {'batch_size': 32, 'dropout_rate': 0.2, 'epochs': 50, 'l2_reg': 0.01, 'learning_rate': 0.001}\n",
      "MAE :  0.022355487570166588\n",
      "Test avec paramètres :  {'batch_size': 32, 'dropout_rate': 0.2, 'epochs': 50, 'l2_reg': 0.01, 'learning_rate': 0.01}\n",
      "MAE :  0.025541402399539948\n",
      "Test avec paramètres :  {'batch_size': 32, 'dropout_rate': 0.2, 'epochs': 100, 'l2_reg': 0.001, 'learning_rate': 0.001}\n",
      "MAE :  0.020156096667051315\n",
      "Test avec paramètres :  {'batch_size': 32, 'dropout_rate': 0.2, 'epochs': 100, 'l2_reg': 0.001, 'learning_rate': 0.01}\n",
      "MAE :  0.03550930693745613\n",
      "Test avec paramètres :  {'batch_size': 32, 'dropout_rate': 0.2, 'epochs': 100, 'l2_reg': 0.01, 'learning_rate': 0.001}\n",
      "MAE :  0.03578772395849228\n",
      "Test avec paramètres :  {'batch_size': 32, 'dropout_rate': 0.2, 'epochs': 100, 'l2_reg': 0.01, 'learning_rate': 0.01}\n",
      "MAE :  0.022575462237000465\n",
      "Test avec paramètres :  {'batch_size': 32, 'dropout_rate': 0.3, 'epochs': 50, 'l2_reg': 0.001, 'learning_rate': 0.001}\n",
      "MAE :  0.01935558207333088\n",
      "Test avec paramètres :  {'batch_size': 32, 'dropout_rate': 0.3, 'epochs': 50, 'l2_reg': 0.001, 'learning_rate': 0.01}\n",
      "MAE :  0.028735307976603508\n",
      "Test avec paramètres :  {'batch_size': 32, 'dropout_rate': 0.3, 'epochs': 50, 'l2_reg': 0.01, 'learning_rate': 0.001}\n",
      "MAE :  0.02305912785232067\n",
      "Test avec paramètres :  {'batch_size': 32, 'dropout_rate': 0.3, 'epochs': 50, 'l2_reg': 0.01, 'learning_rate': 0.01}\n",
      "MAE :  0.025837667286396027\n",
      "Test avec paramètres :  {'batch_size': 32, 'dropout_rate': 0.3, 'epochs': 100, 'l2_reg': 0.001, 'learning_rate': 0.001}\n",
      "MAE :  0.024592949077486992\n",
      "Test avec paramètres :  {'batch_size': 32, 'dropout_rate': 0.3, 'epochs': 100, 'l2_reg': 0.001, 'learning_rate': 0.01}\n",
      "MAE :  0.029907362535595894\n",
      "Test avec paramètres :  {'batch_size': 32, 'dropout_rate': 0.3, 'epochs': 100, 'l2_reg': 0.01, 'learning_rate': 0.001}\n",
      "MAE :  0.02803814969956875\n",
      "Test avec paramètres :  {'batch_size': 32, 'dropout_rate': 0.3, 'epochs': 100, 'l2_reg': 0.01, 'learning_rate': 0.01}\n",
      "MAE :  0.03729883208870888\n",
      "Meilleur MAE :  0.01935558207333088\n",
      "Paramètres optimaux :  {'batch_size': 32, 'dropout_rate': 0.3, 'epochs': 50, 'l2_reg': 0.001, 'learning_rate': 0.001}\n"
     ]
    }
   ],
   "source": [
    "# Fonction pour créer le modèle dynamique avec les hyperparamètres ajustables\n",
    "#dropout_rate: Fraction of the input units to drop (set to zero) during training to prevent overfitting.\n",
    "def create_model(learning_rate=0.001, dropout_rate=0.3, l2_reg=0.01, neurons_1=128, neurons_2=64):\n",
    "    model = Sequential([\n",
    "        #  first dense layer:  It applies the ReLU, which helps the model capture non-linear relationships between input features and stress levels.\n",
    "        Dense(neurons_1, input_dim=X_train.shape[1], activation=\"relu\", kernel_regularizer=l2(l2_reg)),\n",
    "        #dropout layer:  A fraction of neurons(0.3) is randomly \"dropped out\" during training to reduce overfitting and improve the model's ability to generalize.\n",
    "        Dropout(dropout_rate),\n",
    "        Dense(neurons_2, activation=\"relu\", kernel_regularizer=l2(l2_reg)),\n",
    "        Dense(1, activation=\"linear\")\n",
    "    ])\n",
    "    #Adam: to adaptlearning rate.\n",
    "    model.compile(optimizer=Adam(learning_rate=learning_rate),\n",
    "                  loss=\"mean_squared_error\",\n",
    "                  metrics=[\"mean_absolute_error\"])\n",
    "    \n",
    "    return model\n",
    "\n",
    "\n",
    "# Grille des hyperparamètres pour la recherche\n",
    "param_grid = {\n",
    "    'learning_rate': [0.001, 0.01],\n",
    "    'dropout_rate': [0.2, 0.3],\n",
    "    'l2_reg': [0.001, 0.01],\n",
    "    'batch_size': [16,32],\n",
    "    'epochs': [50,100]\n",
    "}\n",
    "\n",
    "\n",
    "# Variable pour suivre le meilleur score et les meilleurs paramètres\n",
    "best_mae = float('inf')\n",
    "best_params = None\n",
    "\n",
    "# Effectuer la boucle sur chaque combinaison de la grille\n",
    "for params in ParameterGrid(param_grid):\n",
    "    print(\"Test avec paramètres : \", params)\n",
    "    \n",
    "    # Créer le modèle avec les paramètres spécifiés\n",
    "    model = create_model(\n",
    "        learning_rate=params['learning_rate'],\n",
    "        dropout_rate=params['dropout_rate'],\n",
    "        l2_reg=params['l2_reg']\n",
    "    )\n",
    "    \n",
    "    # Entraîner le modèle avec les paramètres du grid search\n",
    "    history = model.fit(\n",
    "        X_train, y_train,\n",
    "        validation_data=(X_val, y_val),\n",
    "        epochs=params['epochs'],  # Nombre d'epochs dynamique\n",
    "        batch_size=params['batch_size'],\n",
    "        verbose=0\n",
    "    )\n",
    "    \n",
    "    # Évaluer la performance avec la validation\n",
    "    loss, mae = model.evaluate(X_val, y_val, verbose=0)\n",
    "    print(\"MAE : \", mae)\n",
    "\n",
    "    # Vérifier si on a de meilleures performances\n",
    "    if mae < best_mae:\n",
    "        best_mae = mae\n",
    "        best_params = params\n",
    "\n",
    "print(\"Meilleur MAE : \", best_mae)\n",
    "print(\"Paramètres optimaux : \", best_params)\n",
    "\n",
    "\n"
   ]
  },
  {
   "cell_type": "code",
   "execution_count": 23,
   "id": "e26bb6a7-6087-4b1b-b2c2-4e3e13845e44",
   "metadata": {},
   "outputs": [
    {
     "name": "stdout",
     "output_type": "stream",
     "text": [
      "Epoch 1/50\n"
     ]
    },
    {
     "name": "stderr",
     "output_type": "stream",
     "text": [
      "C:\\Users\\USER\\anaconda\\Lib\\site-packages\\keras\\src\\layers\\core\\dense.py:87: UserWarning: Do not pass an `input_shape`/`input_dim` argument to a layer. When using Sequential models, prefer using an `Input(shape)` object as the first layer in the model instead.\n",
      "  super().__init__(activity_regularizer=activity_regularizer, **kwargs)\n"
     ]
    },
    {
     "name": "stdout",
     "output_type": "stream",
     "text": [
      "\u001b[1m188/188\u001b[0m \u001b[32m━━━━━━━━━━━━━━━━━━━━\u001b[0m\u001b[37m\u001b[0m \u001b[1m1s\u001b[0m 2ms/step - loss: 0.1402 - mean_absolute_error: 0.1676 - val_loss: 0.0418 - val_mean_absolute_error: 0.0248\n",
      "Epoch 2/50\n",
      "\u001b[1m188/188\u001b[0m \u001b[32m━━━━━━━━━━━━━━━━━━━━\u001b[0m\u001b[37m\u001b[0m \u001b[1m0s\u001b[0m 1ms/step - loss: 0.0404 - mean_absolute_error: 0.0537 - val_loss: 0.0254 - val_mean_absolute_error: 0.0281\n",
      "Epoch 3/50\n",
      "\u001b[1m188/188\u001b[0m \u001b[32m━━━━━━━━━━━━━━━━━━━━\u001b[0m\u001b[37m\u001b[0m \u001b[1m0s\u001b[0m 1ms/step - loss: 0.0246 - mean_absolute_error: 0.0426 - val_loss: 0.0164 - val_mean_absolute_error: 0.0235\n",
      "Epoch 4/50\n",
      "\u001b[1m188/188\u001b[0m \u001b[32m━━━━━━━━━━━━━━━━━━━━\u001b[0m\u001b[37m\u001b[0m \u001b[1m0s\u001b[0m 1ms/step - loss: 0.0167 - mean_absolute_error: 0.0401 - val_loss: 0.0113 - val_mean_absolute_error: 0.0241\n",
      "Epoch 5/50\n",
      "\u001b[1m188/188\u001b[0m \u001b[32m━━━━━━━━━━━━━━━━━━━━\u001b[0m\u001b[37m\u001b[0m \u001b[1m0s\u001b[0m 1ms/step - loss: 0.0116 - mean_absolute_error: 0.0359 - val_loss: 0.0082 - val_mean_absolute_error: 0.0262\n",
      "Epoch 6/50\n",
      "\u001b[1m188/188\u001b[0m \u001b[32m━━━━━━━━━━━━━━━━━━━━\u001b[0m\u001b[37m\u001b[0m \u001b[1m0s\u001b[0m 931us/step - loss: 0.0085 - mean_absolute_error: 0.0345 - val_loss: 0.0061 - val_mean_absolute_error: 0.0263\n",
      "Epoch 7/50\n",
      "\u001b[1m188/188\u001b[0m \u001b[32m━━━━━━━━━━━━━━━━━━━━\u001b[0m\u001b[37m\u001b[0m \u001b[1m0s\u001b[0m 1ms/step - loss: 0.0064 - mean_absolute_error: 0.0320 - val_loss: 0.0044 - val_mean_absolute_error: 0.0215\n",
      "Epoch 8/50\n",
      "\u001b[1m188/188\u001b[0m \u001b[32m━━━━━━━━━━━━━━━━━━━━\u001b[0m\u001b[37m\u001b[0m \u001b[1m0s\u001b[0m 979us/step - loss: 0.0051 - mean_absolute_error: 0.0320 - val_loss: 0.0034 - val_mean_absolute_error: 0.0200\n",
      "Epoch 9/50\n",
      "\u001b[1m188/188\u001b[0m \u001b[32m━━━━━━━━━━━━━━━━━━━━\u001b[0m\u001b[37m\u001b[0m \u001b[1m0s\u001b[0m 1ms/step - loss: 0.0040 - mean_absolute_error: 0.0303 - val_loss: 0.0028 - val_mean_absolute_error: 0.0204\n",
      "Epoch 10/50\n",
      "\u001b[1m188/188\u001b[0m \u001b[32m━━━━━━━━━━━━━━━━━━━━\u001b[0m\u001b[37m\u001b[0m \u001b[1m0s\u001b[0m 1ms/step - loss: 0.0036 - mean_absolute_error: 0.0312 - val_loss: 0.0024 - val_mean_absolute_error: 0.0207\n",
      "Epoch 11/50\n",
      "\u001b[1m188/188\u001b[0m \u001b[32m━━━━━━━━━━━━━━━━━━━━\u001b[0m\u001b[37m\u001b[0m \u001b[1m0s\u001b[0m 1ms/step - loss: 0.0032 - mean_absolute_error: 0.0306 - val_loss: 0.0022 - val_mean_absolute_error: 0.0217\n",
      "Epoch 12/50\n",
      "\u001b[1m188/188\u001b[0m \u001b[32m━━━━━━━━━━━━━━━━━━━━\u001b[0m\u001b[37m\u001b[0m \u001b[1m0s\u001b[0m 1ms/step - loss: 0.0028 - mean_absolute_error: 0.0298 - val_loss: 0.0020 - val_mean_absolute_error: 0.0213\n",
      "Epoch 13/50\n",
      "\u001b[1m188/188\u001b[0m \u001b[32m━━━━━━━━━━━━━━━━━━━━\u001b[0m\u001b[37m\u001b[0m \u001b[1m0s\u001b[0m 1ms/step - loss: 0.0026 - mean_absolute_error: 0.0299 - val_loss: 0.0019 - val_mean_absolute_error: 0.0226\n",
      "Epoch 14/50\n",
      "\u001b[1m188/188\u001b[0m \u001b[32m━━━━━━━━━━━━━━━━━━━━\u001b[0m\u001b[37m\u001b[0m \u001b[1m0s\u001b[0m 1ms/step - loss: 0.0026 - mean_absolute_error: 0.0305 - val_loss: 0.0017 - val_mean_absolute_error: 0.0210\n",
      "Epoch 15/50\n",
      "\u001b[1m188/188\u001b[0m \u001b[32m━━━━━━━━━━━━━━━━━━━━\u001b[0m\u001b[37m\u001b[0m \u001b[1m0s\u001b[0m 1ms/step - loss: 0.0026 - mean_absolute_error: 0.0315 - val_loss: 0.0017 - val_mean_absolute_error: 0.0210\n",
      "Epoch 16/50\n",
      "\u001b[1m188/188\u001b[0m \u001b[32m━━━━━━━━━━━━━━━━━━━━\u001b[0m\u001b[37m\u001b[0m \u001b[1m0s\u001b[0m 934us/step - loss: 0.0024 - mean_absolute_error: 0.0299 - val_loss: 0.0016 - val_mean_absolute_error: 0.0209\n",
      "Epoch 17/50\n",
      "\u001b[1m188/188\u001b[0m \u001b[32m━━━━━━━━━━━━━━━━━━━━\u001b[0m\u001b[37m\u001b[0m \u001b[1m0s\u001b[0m 1ms/step - loss: 0.0023 - mean_absolute_error: 0.0295 - val_loss: 0.0018 - val_mean_absolute_error: 0.0231\n",
      "Epoch 18/50\n",
      "\u001b[1m188/188\u001b[0m \u001b[32m━━━━━━━━━━━━━━━━━━━━\u001b[0m\u001b[37m\u001b[0m \u001b[1m0s\u001b[0m 1ms/step - loss: 0.0023 - mean_absolute_error: 0.0299 - val_loss: 0.0016 - val_mean_absolute_error: 0.0218\n",
      "Epoch 19/50\n",
      "\u001b[1m188/188\u001b[0m \u001b[32m━━━━━━━━━━━━━━━━━━━━\u001b[0m\u001b[37m\u001b[0m \u001b[1m0s\u001b[0m 1ms/step - loss: 0.0024 - mean_absolute_error: 0.0308 - val_loss: 0.0015 - val_mean_absolute_error: 0.0201\n",
      "Epoch 20/50\n",
      "\u001b[1m188/188\u001b[0m \u001b[32m━━━━━━━━━━━━━━━━━━━━\u001b[0m\u001b[37m\u001b[0m \u001b[1m0s\u001b[0m 1ms/step - loss: 0.0024 - mean_absolute_error: 0.0316 - val_loss: 0.0017 - val_mean_absolute_error: 0.0226\n",
      "Epoch 21/50\n",
      "\u001b[1m188/188\u001b[0m \u001b[32m━━━━━━━━━━━━━━━━━━━━\u001b[0m\u001b[37m\u001b[0m \u001b[1m0s\u001b[0m 1ms/step - loss: 0.0023 - mean_absolute_error: 0.0299 - val_loss: 0.0024 - val_mean_absolute_error: 0.0321\n",
      "Epoch 22/50\n",
      "\u001b[1m188/188\u001b[0m \u001b[32m━━━━━━━━━━━━━━━━━━━━\u001b[0m\u001b[37m\u001b[0m \u001b[1m0s\u001b[0m 1ms/step - loss: 0.0024 - mean_absolute_error: 0.0311 - val_loss: 0.0017 - val_mean_absolute_error: 0.0235\n",
      "Epoch 23/50\n",
      "\u001b[1m188/188\u001b[0m \u001b[32m━━━━━━━━━━━━━━━━━━━━\u001b[0m\u001b[37m\u001b[0m \u001b[1m0s\u001b[0m 1ms/step - loss: 0.0023 - mean_absolute_error: 0.0303 - val_loss: 0.0016 - val_mean_absolute_error: 0.0219\n",
      "Epoch 24/50\n",
      "\u001b[1m188/188\u001b[0m \u001b[32m━━━━━━━━━━━━━━━━━━━━\u001b[0m\u001b[37m\u001b[0m \u001b[1m0s\u001b[0m 1ms/step - loss: 0.0022 - mean_absolute_error: 0.0297 - val_loss: 0.0015 - val_mean_absolute_error: 0.0212\n",
      "Epoch 25/50\n",
      "\u001b[1m188/188\u001b[0m \u001b[32m━━━━━━━━━━━━━━━━━━━━\u001b[0m\u001b[37m\u001b[0m \u001b[1m0s\u001b[0m 1ms/step - loss: 0.0022 - mean_absolute_error: 0.0292 - val_loss: 0.0018 - val_mean_absolute_error: 0.0256\n",
      "Epoch 26/50\n",
      "\u001b[1m188/188\u001b[0m \u001b[32m━━━━━━━━━━━━━━━━━━━━\u001b[0m\u001b[37m\u001b[0m \u001b[1m0s\u001b[0m 924us/step - loss: 0.0022 - mean_absolute_error: 0.0305 - val_loss: 0.0014 - val_mean_absolute_error: 0.0205\n",
      "Epoch 27/50\n",
      "\u001b[1m188/188\u001b[0m \u001b[32m━━━━━━━━━━━━━━━━━━━━\u001b[0m\u001b[37m\u001b[0m \u001b[1m0s\u001b[0m 1ms/step - loss: 0.0022 - mean_absolute_error: 0.0299 - val_loss: 0.0016 - val_mean_absolute_error: 0.0236\n",
      "Epoch 28/50\n",
      "\u001b[1m188/188\u001b[0m \u001b[32m━━━━━━━━━━━━━━━━━━━━\u001b[0m\u001b[37m\u001b[0m \u001b[1m0s\u001b[0m 1ms/step - loss: 0.0022 - mean_absolute_error: 0.0304 - val_loss: 0.0015 - val_mean_absolute_error: 0.0204\n",
      "Epoch 29/50\n",
      "\u001b[1m188/188\u001b[0m \u001b[32m━━━━━━━━━━━━━━━━━━━━\u001b[0m\u001b[37m\u001b[0m \u001b[1m0s\u001b[0m 1ms/step - loss: 0.0023 - mean_absolute_error: 0.0307 - val_loss: 0.0017 - val_mean_absolute_error: 0.0252\n",
      "Epoch 30/50\n",
      "\u001b[1m188/188\u001b[0m \u001b[32m━━━━━━━━━━━━━━━━━━━━\u001b[0m\u001b[37m\u001b[0m \u001b[1m0s\u001b[0m 1ms/step - loss: 0.0023 - mean_absolute_error: 0.0309 - val_loss: 0.0014 - val_mean_absolute_error: 0.0204\n",
      "Epoch 31/50\n",
      "\u001b[1m188/188\u001b[0m \u001b[32m━━━━━━━━━━━━━━━━━━━━\u001b[0m\u001b[37m\u001b[0m \u001b[1m0s\u001b[0m 1ms/step - loss: 0.0023 - mean_absolute_error: 0.0306 - val_loss: 0.0015 - val_mean_absolute_error: 0.0210\n",
      "Epoch 32/50\n",
      "\u001b[1m188/188\u001b[0m \u001b[32m━━━━━━━━━━━━━━━━━━━━\u001b[0m\u001b[37m\u001b[0m \u001b[1m0s\u001b[0m 1ms/step - loss: 0.0022 - mean_absolute_error: 0.0301 - val_loss: 0.0014 - val_mean_absolute_error: 0.0206\n",
      "Epoch 33/50\n",
      "\u001b[1m188/188\u001b[0m \u001b[32m━━━━━━━━━━━━━━━━━━━━\u001b[0m\u001b[37m\u001b[0m \u001b[1m0s\u001b[0m 1ms/step - loss: 0.0021 - mean_absolute_error: 0.0290 - val_loss: 0.0013 - val_mean_absolute_error: 0.0197\n",
      "Epoch 34/50\n",
      "\u001b[1m188/188\u001b[0m \u001b[32m━━━━━━━━━━━━━━━━━━━━\u001b[0m\u001b[37m\u001b[0m \u001b[1m0s\u001b[0m 1ms/step - loss: 0.0022 - mean_absolute_error: 0.0307 - val_loss: 0.0016 - val_mean_absolute_error: 0.0229\n",
      "Epoch 35/50\n",
      "\u001b[1m188/188\u001b[0m \u001b[32m━━━━━━━━━━━━━━━━━━━━\u001b[0m\u001b[37m\u001b[0m \u001b[1m0s\u001b[0m 1ms/step - loss: 0.0021 - mean_absolute_error: 0.0293 - val_loss: 0.0015 - val_mean_absolute_error: 0.0215\n",
      "Epoch 36/50\n",
      "\u001b[1m188/188\u001b[0m \u001b[32m━━━━━━━━━━━━━━━━━━━━\u001b[0m\u001b[37m\u001b[0m \u001b[1m0s\u001b[0m 1ms/step - loss: 0.0022 - mean_absolute_error: 0.0304 - val_loss: 0.0015 - val_mean_absolute_error: 0.0218\n",
      "Epoch 37/50\n",
      "\u001b[1m188/188\u001b[0m \u001b[32m━━━━━━━━━━━━━━━━━━━━\u001b[0m\u001b[37m\u001b[0m \u001b[1m0s\u001b[0m 1ms/step - loss: 0.0022 - mean_absolute_error: 0.0302 - val_loss: 0.0016 - val_mean_absolute_error: 0.0242\n",
      "Epoch 38/50\n",
      "\u001b[1m188/188\u001b[0m \u001b[32m━━━━━━━━━━━━━━━━━━━━\u001b[0m\u001b[37m\u001b[0m \u001b[1m0s\u001b[0m 1ms/step - loss: 0.0022 - mean_absolute_error: 0.0309 - val_loss: 0.0013 - val_mean_absolute_error: 0.0200\n",
      "Epoch 39/50\n",
      "\u001b[1m188/188\u001b[0m \u001b[32m━━━━━━━━━━━━━━━━━━━━\u001b[0m\u001b[37m\u001b[0m \u001b[1m0s\u001b[0m 1ms/step - loss: 0.0022 - mean_absolute_error: 0.0303 - val_loss: 0.0014 - val_mean_absolute_error: 0.0213\n",
      "Epoch 40/50\n",
      "\u001b[1m188/188\u001b[0m \u001b[32m━━━━━━━━━━━━━━━━━━━━\u001b[0m\u001b[37m\u001b[0m \u001b[1m0s\u001b[0m 1ms/step - loss: 0.0021 - mean_absolute_error: 0.0293 - val_loss: 0.0014 - val_mean_absolute_error: 0.0202\n",
      "Epoch 41/50\n",
      "\u001b[1m188/188\u001b[0m \u001b[32m━━━━━━━━━━━━━━━━━━━━\u001b[0m\u001b[37m\u001b[0m \u001b[1m0s\u001b[0m 1ms/step - loss: 0.0021 - mean_absolute_error: 0.0295 - val_loss: 0.0019 - val_mean_absolute_error: 0.0277\n",
      "Epoch 42/50\n",
      "\u001b[1m188/188\u001b[0m \u001b[32m━━━━━━━━━━━━━━━━━━━━\u001b[0m\u001b[37m\u001b[0m \u001b[1m0s\u001b[0m 1ms/step - loss: 0.0023 - mean_absolute_error: 0.0318 - val_loss: 0.0014 - val_mean_absolute_error: 0.0204\n",
      "Epoch 43/50\n",
      "\u001b[1m188/188\u001b[0m \u001b[32m━━━━━━━━━━━━━━━━━━━━\u001b[0m\u001b[37m\u001b[0m \u001b[1m0s\u001b[0m 1ms/step - loss: 0.0021 - mean_absolute_error: 0.0301 - val_loss: 0.0015 - val_mean_absolute_error: 0.0223\n",
      "\u001b[1m63/63\u001b[0m \u001b[32m━━━━━━━━━━━━━━━━━━━━\u001b[0m\u001b[37m\u001b[0m \u001b[1m0s\u001b[0m 682us/step - loss: 0.0014 - mean_absolute_error: 0.0200\n",
      "Test Loss: 0.0013599831145256758\n",
      "Test Mean Absolute Error: 0.020016370341181755\n"
     ]
    }
   ],
   "source": [
    "# Définir EarlyStopping \n",
    "early_stopping = EarlyStopping(monitor='val_loss', patience=10, restore_best_weights=True)\n",
    "\n",
    "# Construire le modèle final avec les meilleurs paramètres\n",
    "final_model = create_model(\n",
    "    learning_rate=best_params['learning_rate'],\n",
    "    dropout_rate=best_params['dropout_rate'],\n",
    "    l2_reg=best_params['l2_reg'])\n",
    "\n",
    "# Entraîner le modèle final avec les meilleurs paramètres optimisés\n",
    "history = final_model.fit(\n",
    "    X_train, y_train,\n",
    "    validation_data=(X_val, y_val),\n",
    "    epochs=best_params['epochs'],\n",
    "    batch_size=best_params['batch_size'],\n",
    "    callbacks=[early_stopping])\n",
    "\n",
    "# Évaluer le modèle final sur l'ensemble de test\n",
    "result = final_model.evaluate(X_test, y_test)\n",
    "print(\"Test Loss:\", result[0])\n",
    "print(\"Test Mean Absolute Error:\", result[1])"
   ]
  },
  {
   "cell_type": "code",
   "execution_count": 25,
   "id": "9c29da7f-4766-469e-a023-eb363b58ce01",
   "metadata": {},
   "outputs": [
    {
     "name": "stdout",
     "output_type": "stream",
     "text": [
      "\u001b[1m63/63\u001b[0m \u001b[32m━━━━━━━━━━━━━━━━━━━━\u001b[0m\u001b[37m\u001b[0m \u001b[1m0s\u001b[0m 1ms/step  \n",
      "R^2 Score: 0.9861987092311033\n"
     ]
    }
   ],
   "source": [
    "from sklearn.metrics import r2_score\n",
    "\n",
    "# Prédire les valeurs sur l'ensemble de test\n",
    "y_pred = final_model.predict(X_test)\n",
    "\n",
    "# Calculer R^2\n",
    "r2 = r2_score(y_test, y_pred)\n",
    "print(\"R^2 Score:\", r2)\n"
   ]
  },
  {
   "cell_type": "code",
   "execution_count": 27,
   "id": "74d58c2e-d705-437c-bcbd-d28ee371b614",
   "metadata": {},
   "outputs": [
    {
     "name": "stdout",
     "output_type": "stream",
     "text": [
      "\u001b[1m63/63\u001b[0m \u001b[32m━━━━━━━━━━━━━━━━━━━━\u001b[0m\u001b[37m\u001b[0m \u001b[1m0s\u001b[0m 534us/step\n",
      "[[51.313034]\n",
      " [66.50452 ]\n",
      " [79.02769 ]\n",
      " ...\n",
      " [19.86258 ]\n",
      " [63.039482]\n",
      " [21.38501 ]]\n"
     ]
    }
   ],
   "source": [
    "# Prédire les valeurs avec le modèle final sur l'ensemble de test\n",
    "predictions = final_model.predict(X_test)\n",
    "# Inverse scale the predictions and test data back to the original scale\n",
    "predictions_original = y_scaler.inverse_transform(predictions)\n",
    "y_test_original = y_scaler.inverse_transform(y_test)\n",
    "print(predictions_original)\n"
   ]
  },
  {
   "cell_type": "code",
   "execution_count": 29,
   "id": "670bc517-ee95-4e51-98f9-f7956ab5644f",
   "metadata": {},
   "outputs": [
    {
     "name": "stdout",
     "output_type": "stream",
     "text": [
      "[[53.]\n",
      " [66.]\n",
      " [76.]\n",
      " ...\n",
      " [18.]\n",
      " [65.]\n",
      " [15.]]\n"
     ]
    }
   ],
   "source": [
    "print( y_test_original)"
   ]
  },
  {
   "cell_type": "code",
   "execution_count": 31,
   "id": "5a3c1879-7f85-4e19-b9a3-e49d66f1a9fa",
   "metadata": {},
   "outputs": [
    {
     "data": {
      "image/png": "[encoded data removed]",
      "text/plain": [
       "<Figure size 640x480 with 1 Axes>"
      ]
     },
     "metadata": {},
     "output_type": "display_data"
    }
   ],
   "source": [
    "\n",
    "import matplotlib.pyplot as plt\n",
    "\n",
    "# Plot the training and validation loss\n",
    "plt.plot(history.history['loss'], label='Training Loss')\n",
    "plt.plot(history.history['val_loss'], label='Validation Loss')\n",
    "plt.xlabel('Epochs')\n",
    "plt.ylabel('Loss')\n",
    "plt.legend()\n",
    "plt.title(\"Training vs. Validation Loss\")\n",
    "plt.show()\n"
   ]
  },
  {
   "cell_type": "code",
   "execution_count": 33,
   "id": "190c6ae5-f844-4898-b57c-426d0c913e91",
   "metadata": {},
   "outputs": [
    {
     "data": {
      "image/png": "[encoded data removed]",
      "text/plain": [
       "<Figure size 1000x600 with 1 Axes>"
      ]
     },
     "metadata": {},
     "output_type": "display_data"
    }
   ],
   "source": [
    "plt.figure(figsize=(10, 6))\n",
    "plt.scatter(y_test_original, predictions_original, edgecolors=(0, 0, 0))\n",
    "plt.plot([y.min(), y.max()], [y.min(), y.max()], 'k--', lw=4)\n",
    "plt.xlabel('Actual values')\n",
    "plt.ylabel('Predicted values')\n",
    "plt.title('Actual vs Predicted ')\n",
    "plt.show()\n"
   ]
  },
  {
   "cell_type": "code",
   "execution_count": null,
   "id": "808c4ed4-b0fa-4940-a474-74b34145fbd7",
   "metadata": {},
   "outputs": [],
   "source": []
  },
  {
   "cell_type": "code",
   "execution_count": null,
   "id": "8b51c7ba-6aa4-4616-9e07-1761b9629504",
   "metadata": {},
   "outputs": [],
   "source": []
  }
 ],
 "metadata": {
  "kernelspec": {
   "display_name": "Python 3 (ipykernel)",
   "language": "python",
   "name": "python3"
  },
  "language_info": {
   "codemirror_mode": {
    "name": "ipython",
    "version": 3
   },
   "file_extension": ".py",
   "mimetype": "text/x-python",
   "name": "python",
   "nbconvert_exporter": "python",
   "pygments_lexer": "ipython3",
   "version": "3.12.3"
  }
 },
 "nbformat": 4,
 "nbformat_minor": 5
}
